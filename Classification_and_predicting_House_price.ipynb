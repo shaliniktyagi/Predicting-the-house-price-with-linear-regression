{
  "nbformat": 4,
  "nbformat_minor": 0,
  "metadata": {
    "kernelspec": {
      "display_name": "Python 3",
      "language": "python",
      "name": "python3"
    },
    "language_info": {
      "codemirror_mode": {
        "name": "ipython",
        "version": 3
      },
      "file_extension": ".py",
      "mimetype": "text/x-python",
      "name": "python",
      "nbconvert_exporter": "python",
      "pygments_lexer": "ipython3",
      "version": "3.8.8"
    },
    "colab": {
      "name": "Classification and predicting House_price.ipynb",
      "provenance": [],
      "collapsed_sections": []
    }
  },
  "cells": [
    {
      "cell_type": "markdown",
      "metadata": {
        "id": "w1lNFZlV53RH"
      },
      "source": [
        "# Exploration of house data from Arizona state"
      ]
    },
    {
      "cell_type": "code",
      "metadata": {
        "id": "cUZs0k1C53R0"
      },
      "source": [
        "# Impport the packages\n",
        "import pandas as pd\n",
        "import numpy as np\n",
        "import seaborn as sns\n",
        "import matplotlib.pyplot as plt\n",
        "import folium"
      ],
      "execution_count": null,
      "outputs": []
    },
    {
      "cell_type": "markdown",
      "metadata": {
        "id": "7MzfeuF853R2"
      },
      "source": [
        "## Data input"
      ]
    },
    {
      "cell_type": "code",
      "metadata": {
        "id": "Lhs_wNod53R3"
      },
      "source": [
        "# Read the data\n",
        "data = pd.read_csv('data_project.csv')"
      ],
      "execution_count": null,
      "outputs": []
    },
    {
      "cell_type": "code",
      "metadata": {
        "scrolled": true,
        "colab": {
          "base_uri": "https://localhost:8080/",
          "height": 417
        },
        "id": "_2sFEeZp53R4",
        "outputId": "5c6769d9-86bf-458c-d853-819d1c997a90"
      },
      "source": [
        "# # Display the few rows of the data\n",
        "data.head(5)"
      ],
      "execution_count": null,
      "outputs": [
        {
          "output_type": "execute_result",
          "data": {
            "text/html": [
              "<div>\n",
              "<style scoped>\n",
              "    .dataframe tbody tr th:only-of-type {\n",
              "        vertical-align: middle;\n",
              "    }\n",
              "\n",
              "    .dataframe tbody tr th {\n",
              "        vertical-align: top;\n",
              "    }\n",
              "\n",
              "    .dataframe thead th {\n",
              "        text-align: right;\n",
              "    }\n",
              "</style>\n",
              "<table border=\"1\" class=\"dataframe\">\n",
              "  <thead>\n",
              "    <tr style=\"text-align: right;\">\n",
              "      <th></th>\n",
              "      <th>Unnamed: 0</th>\n",
              "      <th>MLS</th>\n",
              "      <th>sold_price</th>\n",
              "      <th>zipcode</th>\n",
              "      <th>longitude</th>\n",
              "      <th>latitude</th>\n",
              "      <th>lot_acres</th>\n",
              "      <th>taxes</th>\n",
              "      <th>year_built</th>\n",
              "      <th>bedrooms</th>\n",
              "      <th>bathrooms</th>\n",
              "      <th>sqrt_ft</th>\n",
              "      <th>garage</th>\n",
              "      <th>kitchen_features</th>\n",
              "      <th>fireplaces</th>\n",
              "      <th>floor_covering</th>\n",
              "      <th>HOA</th>\n",
              "      <th>sold_price_per_sqrt_ft</th>\n",
              "      <th>sold_price_per_sqrt_ft_range</th>\n",
              "    </tr>\n",
              "  </thead>\n",
              "  <tbody>\n",
              "    <tr>\n",
              "      <th>0</th>\n",
              "      <td>0</td>\n",
              "      <td>21530491</td>\n",
              "      <td>5300000.0</td>\n",
              "      <td>85637</td>\n",
              "      <td>-110.378200</td>\n",
              "      <td>31.356362</td>\n",
              "      <td>2154.00</td>\n",
              "      <td>5272.00</td>\n",
              "      <td>1941</td>\n",
              "      <td>13</td>\n",
              "      <td>10.0</td>\n",
              "      <td>10500.0</td>\n",
              "      <td>0.0</td>\n",
              "      <td>Dishwasher, Freezer, Refrigerator, Oven</td>\n",
              "      <td>6</td>\n",
              "      <td>Mexican Tile, Wood</td>\n",
              "      <td>0</td>\n",
              "      <td>504.761905</td>\n",
              "      <td>400-599</td>\n",
              "    </tr>\n",
              "    <tr>\n",
              "      <th>1</th>\n",
              "      <td>1</td>\n",
              "      <td>21529082</td>\n",
              "      <td>4200000.0</td>\n",
              "      <td>85646</td>\n",
              "      <td>-111.045371</td>\n",
              "      <td>31.594213</td>\n",
              "      <td>1707.00</td>\n",
              "      <td>10422.36</td>\n",
              "      <td>1997</td>\n",
              "      <td>2</td>\n",
              "      <td>2.0</td>\n",
              "      <td>7300.0</td>\n",
              "      <td>0.0</td>\n",
              "      <td>Dishwasher, Garbage Disposal</td>\n",
              "      <td>5</td>\n",
              "      <td>Natural Stone, Other</td>\n",
              "      <td>0</td>\n",
              "      <td>575.342466</td>\n",
              "      <td>400-599</td>\n",
              "    </tr>\n",
              "    <tr>\n",
              "      <th>2</th>\n",
              "      <td>3</td>\n",
              "      <td>21919321</td>\n",
              "      <td>4500000.0</td>\n",
              "      <td>85646</td>\n",
              "      <td>-111.035925</td>\n",
              "      <td>31.645878</td>\n",
              "      <td>636.67</td>\n",
              "      <td>8418.58</td>\n",
              "      <td>1930</td>\n",
              "      <td>7</td>\n",
              "      <td>5.0</td>\n",
              "      <td>9019.0</td>\n",
              "      <td>4.0</td>\n",
              "      <td>Dishwasher, Double Sink, Pantry: Butler, Refri...</td>\n",
              "      <td>4</td>\n",
              "      <td>Ceramic Tile, Laminate, Wood</td>\n",
              "      <td>0</td>\n",
              "      <td>498.946668</td>\n",
              "      <td>400-599</td>\n",
              "    </tr>\n",
              "    <tr>\n",
              "      <th>3</th>\n",
              "      <td>4</td>\n",
              "      <td>21306357</td>\n",
              "      <td>3411450.0</td>\n",
              "      <td>85750</td>\n",
              "      <td>-110.813768</td>\n",
              "      <td>32.285162</td>\n",
              "      <td>3.21</td>\n",
              "      <td>15393.00</td>\n",
              "      <td>1995</td>\n",
              "      <td>4</td>\n",
              "      <td>6.0</td>\n",
              "      <td>6396.0</td>\n",
              "      <td>3.0</td>\n",
              "      <td>Dishwasher, Garbage Disposal, Refrigerator, Mi...</td>\n",
              "      <td>5</td>\n",
              "      <td>Carpet, Concrete</td>\n",
              "      <td>55</td>\n",
              "      <td>533.372420</td>\n",
              "      <td>400-599</td>\n",
              "    </tr>\n",
              "    <tr>\n",
              "      <th>4</th>\n",
              "      <td>5</td>\n",
              "      <td>21528016</td>\n",
              "      <td>3250000.0</td>\n",
              "      <td>85718</td>\n",
              "      <td>-110.910593</td>\n",
              "      <td>32.339090</td>\n",
              "      <td>1.67</td>\n",
              "      <td>27802.84</td>\n",
              "      <td>1999</td>\n",
              "      <td>3</td>\n",
              "      <td>4.0</td>\n",
              "      <td>6842.0</td>\n",
              "      <td>3.0</td>\n",
              "      <td>Dishwasher, Garbage Disposal, Refrigerator, Mi...</td>\n",
              "      <td>5</td>\n",
              "      <td>Natural Stone, Wood, Other</td>\n",
              "      <td>422</td>\n",
              "      <td>475.007308</td>\n",
              "      <td>400-599</td>\n",
              "    </tr>\n",
              "  </tbody>\n",
              "</table>\n",
              "</div>"
            ],
            "text/plain": [
              "   Unnamed: 0       MLS  ...  sold_price_per_sqrt_ft  sold_price_per_sqrt_ft_range\n",
              "0           0  21530491  ...              504.761905                       400-599\n",
              "1           1  21529082  ...              575.342466                       400-599\n",
              "2           3  21919321  ...              498.946668                       400-599\n",
              "3           4  21306357  ...              533.372420                       400-599\n",
              "4           5  21528016  ...              475.007308                       400-599\n",
              "\n",
              "[5 rows x 19 columns]"
            ]
          },
          "metadata": {},
          "execution_count": 3
        }
      ]
    },
    {
      "cell_type": "code",
      "metadata": {
        "colab": {
          "base_uri": "https://localhost:8080/"
        },
        "id": "ayRH0lRz53R5",
        "outputId": "e120544d-c6e6-4ed5-e948-7a6ca92290c3"
      },
      "source": [
        "# Check the dimensions of the data\n",
        "data.shape"
      ],
      "execution_count": null,
      "outputs": [
        {
          "output_type": "execute_result",
          "data": {
            "text/plain": [
              "(4903, 19)"
            ]
          },
          "metadata": {},
          "execution_count": 4
        }
      ]
    },
    {
      "cell_type": "code",
      "metadata": {
        "colab": {
          "base_uri": "https://localhost:8080/"
        },
        "id": "safK57lG_2WL",
        "outputId": "0a933d79-516d-4a37-cf3d-60d721cb4e95"
      },
      "source": [
        "data['sold_price'].min(), data['sold_price'].max()"
      ],
      "execution_count": null,
      "outputs": [
        {
          "output_type": "execute_result",
          "data": {
            "text/plain": [
              "(300000.0, 5300000.0)"
            ]
          },
          "metadata": {},
          "execution_count": 5
        }
      ]
    },
    {
      "cell_type": "code",
      "metadata": {
        "colab": {
          "base_uri": "https://localhost:8080/"
        },
        "id": "8WRTTRHj53R7",
        "outputId": "cc58751c-d5ab-404b-99bc-b60b72abc772"
      },
      "source": [
        "# show the concise summary about data and count missing values in the dataframe\n",
        "data.info()"
      ],
      "execution_count": null,
      "outputs": [
        {
          "output_type": "stream",
          "name": "stdout",
          "text": [
            "<class 'pandas.core.frame.DataFrame'>\n",
            "RangeIndex: 4903 entries, 0 to 4902\n",
            "Data columns (total 19 columns):\n",
            " #   Column                        Non-Null Count  Dtype  \n",
            "---  ------                        --------------  -----  \n",
            " 0   Unnamed: 0                    4903 non-null   int64  \n",
            " 1   MLS                           4903 non-null   int64  \n",
            " 2   sold_price                    4903 non-null   float64\n",
            " 3   zipcode                       4903 non-null   int64  \n",
            " 4   longitude                     4903 non-null   float64\n",
            " 5   latitude                      4903 non-null   float64\n",
            " 6   lot_acres                     4903 non-null   float64\n",
            " 7   taxes                         4903 non-null   float64\n",
            " 8   year_built                    4903 non-null   int64  \n",
            " 9   bedrooms                      4903 non-null   int64  \n",
            " 10  bathrooms                     4903 non-null   float64\n",
            " 11  sqrt_ft                       4903 non-null   float64\n",
            " 12  garage                        4903 non-null   float64\n",
            " 13  kitchen_features              4903 non-null   object \n",
            " 14  fireplaces                    4903 non-null   int64  \n",
            " 15  floor_covering                4903 non-null   object \n",
            " 16  HOA                           4903 non-null   object \n",
            " 17  sold_price_per_sqrt_ft        4903 non-null   float64\n",
            " 18  sold_price_per_sqrt_ft_range  4902 non-null   object \n",
            "dtypes: float64(9), int64(6), object(4)\n",
            "memory usage: 727.9+ KB\n"
          ]
        }
      ]
    },
    {
      "cell_type": "code",
      "metadata": {
        "colab": {
          "base_uri": "https://localhost:8080/",
          "height": 320
        },
        "id": "7Rs7F4w753R8",
        "outputId": "b6ec7214-087f-4a52-9a8e-6eb1129c6526"
      },
      "source": [
        "# Descriptive statistical meaures\n",
        "data.describe()"
      ],
      "execution_count": null,
      "outputs": [
        {
          "output_type": "execute_result",
          "data": {
            "text/html": [
              "<div>\n",
              "<style scoped>\n",
              "    .dataframe tbody tr th:only-of-type {\n",
              "        vertical-align: middle;\n",
              "    }\n",
              "\n",
              "    .dataframe tbody tr th {\n",
              "        vertical-align: top;\n",
              "    }\n",
              "\n",
              "    .dataframe thead th {\n",
              "        text-align: right;\n",
              "    }\n",
              "</style>\n",
              "<table border=\"1\" class=\"dataframe\">\n",
              "  <thead>\n",
              "    <tr style=\"text-align: right;\">\n",
              "      <th></th>\n",
              "      <th>Unnamed: 0</th>\n",
              "      <th>MLS</th>\n",
              "      <th>sold_price</th>\n",
              "      <th>zipcode</th>\n",
              "      <th>longitude</th>\n",
              "      <th>latitude</th>\n",
              "      <th>lot_acres</th>\n",
              "      <th>taxes</th>\n",
              "      <th>year_built</th>\n",
              "      <th>bedrooms</th>\n",
              "      <th>bathrooms</th>\n",
              "      <th>sqrt_ft</th>\n",
              "      <th>garage</th>\n",
              "      <th>fireplaces</th>\n",
              "      <th>sold_price_per_sqrt_ft</th>\n",
              "    </tr>\n",
              "  </thead>\n",
              "  <tbody>\n",
              "    <tr>\n",
              "      <th>count</th>\n",
              "      <td>4903.000000</td>\n",
              "      <td>4.903000e+03</td>\n",
              "      <td>4.903000e+03</td>\n",
              "      <td>4903.000000</td>\n",
              "      <td>4903.000000</td>\n",
              "      <td>4903.000000</td>\n",
              "      <td>4903.000000</td>\n",
              "      <td>4.903000e+03</td>\n",
              "      <td>4903.000000</td>\n",
              "      <td>4903.000000</td>\n",
              "      <td>4903.000000</td>\n",
              "      <td>4903.000000</td>\n",
              "      <td>4903.000000</td>\n",
              "      <td>4903.000000</td>\n",
              "      <td>4903.000000</td>\n",
              "    </tr>\n",
              "    <tr>\n",
              "      <th>mean</th>\n",
              "      <td>2495.650010</td>\n",
              "      <td>2.149141e+07</td>\n",
              "      <td>7.756850e+05</td>\n",
              "      <td>85724.291046</td>\n",
              "      <td>-110.910560</td>\n",
              "      <td>32.315921</td>\n",
              "      <td>4.174536</td>\n",
              "      <td>9.462981e+03</td>\n",
              "      <td>1994.294310</td>\n",
              "      <td>3.927595</td>\n",
              "      <td>3.816337</td>\n",
              "      <td>3707.719274</td>\n",
              "      <td>2.817153</td>\n",
              "      <td>1.879054</td>\n",
              "      <td>212.788707</td>\n",
              "    </tr>\n",
              "    <tr>\n",
              "      <th>std</th>\n",
              "      <td>1443.203645</td>\n",
              "      <td>1.336633e+06</td>\n",
              "      <td>3.157269e+05</td>\n",
              "      <td>36.678685</td>\n",
              "      <td>0.120478</td>\n",
              "      <td>0.166568</td>\n",
              "      <td>45.943908</td>\n",
              "      <td>1.746396e+05</td>\n",
              "      <td>17.703888</td>\n",
              "      <td>1.136115</td>\n",
              "      <td>1.301410</td>\n",
              "      <td>1099.038062</td>\n",
              "      <td>1.197187</td>\n",
              "      <td>1.129812</td>\n",
              "      <td>66.632147</td>\n",
              "    </tr>\n",
              "    <tr>\n",
              "      <th>min</th>\n",
              "      <td>0.000000</td>\n",
              "      <td>4.110917e+06</td>\n",
              "      <td>3.000000e+05</td>\n",
              "      <td>85118.000000</td>\n",
              "      <td>-112.520168</td>\n",
              "      <td>31.356362</td>\n",
              "      <td>0.000000</td>\n",
              "      <td>0.000000e+00</td>\n",
              "      <td>1893.000000</td>\n",
              "      <td>1.000000</td>\n",
              "      <td>1.000000</td>\n",
              "      <td>1100.000000</td>\n",
              "      <td>0.000000</td>\n",
              "      <td>0.000000</td>\n",
              "      <td>24.544805</td>\n",
              "    </tr>\n",
              "    <tr>\n",
              "      <th>25%</th>\n",
              "      <td>1245.500000</td>\n",
              "      <td>2.141039e+07</td>\n",
              "      <td>5.850000e+05</td>\n",
              "      <td>85718.000000</td>\n",
              "      <td>-110.978280</td>\n",
              "      <td>32.280525</td>\n",
              "      <td>0.580000</td>\n",
              "      <td>4.820920e+03</td>\n",
              "      <td>1987.000000</td>\n",
              "      <td>3.000000</td>\n",
              "      <td>3.000000</td>\n",
              "      <td>3047.000000</td>\n",
              "      <td>2.000000</td>\n",
              "      <td>1.000000</td>\n",
              "      <td>175.904407</td>\n",
              "    </tr>\n",
              "    <tr>\n",
              "      <th>50%</th>\n",
              "      <td>2494.000000</td>\n",
              "      <td>2.161781e+07</td>\n",
              "      <td>6.780000e+05</td>\n",
              "      <td>85737.000000</td>\n",
              "      <td>-110.922309</td>\n",
              "      <td>32.319152</td>\n",
              "      <td>0.980000</td>\n",
              "      <td>6.247000e+03</td>\n",
              "      <td>1999.000000</td>\n",
              "      <td>4.000000</td>\n",
              "      <td>4.000000</td>\n",
              "      <td>3508.000000</td>\n",
              "      <td>3.000000</td>\n",
              "      <td>2.000000</td>\n",
              "      <td>202.786596</td>\n",
              "    </tr>\n",
              "    <tr>\n",
              "      <th>75%</th>\n",
              "      <td>3745.500000</td>\n",
              "      <td>2.180551e+07</td>\n",
              "      <td>8.390000e+05</td>\n",
              "      <td>85750.000000</td>\n",
              "      <td>-110.858404</td>\n",
              "      <td>32.396256</td>\n",
              "      <td>1.710000</td>\n",
              "      <td>8.097270e+03</td>\n",
              "      <td>2006.000000</td>\n",
              "      <td>4.000000</td>\n",
              "      <td>4.000000</td>\n",
              "      <td>4123.000000</td>\n",
              "      <td>3.000000</td>\n",
              "      <td>3.000000</td>\n",
              "      <td>234.258222</td>\n",
              "    </tr>\n",
              "    <tr>\n",
              "      <th>max</th>\n",
              "      <td>4998.000000</td>\n",
              "      <td>2.192856e+07</td>\n",
              "      <td>5.300000e+06</td>\n",
              "      <td>86323.000000</td>\n",
              "      <td>-109.454637</td>\n",
              "      <td>34.927884</td>\n",
              "      <td>2154.000000</td>\n",
              "      <td>1.221508e+07</td>\n",
              "      <td>2019.000000</td>\n",
              "      <td>36.000000</td>\n",
              "      <td>36.000000</td>\n",
              "      <td>22408.000000</td>\n",
              "      <td>30.000000</td>\n",
              "      <td>9.000000</td>\n",
              "      <td>1208.333333</td>\n",
              "    </tr>\n",
              "  </tbody>\n",
              "</table>\n",
              "</div>"
            ],
            "text/plain": [
              "        Unnamed: 0           MLS  ...   fireplaces  sold_price_per_sqrt_ft\n",
              "count  4903.000000  4.903000e+03  ...  4903.000000             4903.000000\n",
              "mean   2495.650010  2.149141e+07  ...     1.879054              212.788707\n",
              "std    1443.203645  1.336633e+06  ...     1.129812               66.632147\n",
              "min       0.000000  4.110917e+06  ...     0.000000               24.544805\n",
              "25%    1245.500000  2.141039e+07  ...     1.000000              175.904407\n",
              "50%    2494.000000  2.161781e+07  ...     2.000000              202.786596\n",
              "75%    3745.500000  2.180551e+07  ...     3.000000              234.258222\n",
              "max    4998.000000  2.192856e+07  ...     9.000000             1208.333333\n",
              "\n",
              "[8 rows x 15 columns]"
            ]
          },
          "metadata": {},
          "execution_count": 7
        }
      ]
    },
    {
      "cell_type": "code",
      "metadata": {
        "colab": {
          "base_uri": "https://localhost:8080/"
        },
        "id": "Htsru4m053R-",
        "outputId": "99dcd976-4275-45a2-cbef-774893ac26d0"
      },
      "source": [
        "# check the duplicate values\n",
        "data.duplicated().sum()"
      ],
      "execution_count": null,
      "outputs": [
        {
          "output_type": "execute_result",
          "data": {
            "text/plain": [
              "0"
            ]
          },
          "metadata": {},
          "execution_count": 8
        }
      ]
    },
    {
      "cell_type": "markdown",
      "metadata": {
        "id": "fUi9mRKh53R-"
      },
      "source": [
        "## Dealing with Missing values"
      ]
    },
    {
      "cell_type": "code",
      "metadata": {
        "colab": {
          "base_uri": "https://localhost:8080/"
        },
        "id": "PIt9dU0q53R_",
        "outputId": "659b6ff4-8f85-4e64-ea38-0aa9f1fef78b"
      },
      "source": [
        "# check the missing value in each column\n",
        "data.isna().sum()"
      ],
      "execution_count": null,
      "outputs": [
        {
          "output_type": "execute_result",
          "data": {
            "text/plain": [
              "Unnamed: 0                      0\n",
              "MLS                             0\n",
              "sold_price                      0\n",
              "zipcode                         0\n",
              "longitude                       0\n",
              "latitude                        0\n",
              "lot_acres                       0\n",
              "taxes                           0\n",
              "year_built                      0\n",
              "bedrooms                        0\n",
              "bathrooms                       0\n",
              "sqrt_ft                         0\n",
              "garage                          0\n",
              "kitchen_features                0\n",
              "fireplaces                      0\n",
              "floor_covering                  0\n",
              "HOA                             0\n",
              "sold_price_per_sqrt_ft          0\n",
              "sold_price_per_sqrt_ft_range    1\n",
              "dtype: int64"
            ]
          },
          "metadata": {},
          "execution_count": 9
        }
      ]
    },
    {
      "cell_type": "code",
      "metadata": {
        "colab": {
          "base_uri": "https://localhost:8080/"
        },
        "id": "p1wnwygMNr2P",
        "outputId": "abe72715-bb14-4b4f-f925-c705218542ce"
      },
      "source": [
        "data1 = data.dropna()\n",
        "data1.isna().sum()"
      ],
      "execution_count": null,
      "outputs": [
        {
          "output_type": "execute_result",
          "data": {
            "text/plain": [
              "Unnamed: 0                      0\n",
              "MLS                             0\n",
              "sold_price                      0\n",
              "zipcode                         0\n",
              "longitude                       0\n",
              "latitude                        0\n",
              "lot_acres                       0\n",
              "taxes                           0\n",
              "year_built                      0\n",
              "bedrooms                        0\n",
              "bathrooms                       0\n",
              "sqrt_ft                         0\n",
              "garage                          0\n",
              "kitchen_features                0\n",
              "fireplaces                      0\n",
              "floor_covering                  0\n",
              "HOA                             0\n",
              "sold_price_per_sqrt_ft          0\n",
              "sold_price_per_sqrt_ft_range    0\n",
              "dtype: int64"
            ]
          },
          "metadata": {},
          "execution_count": 10
        }
      ]
    },
    {
      "cell_type": "code",
      "metadata": {
        "colab": {
          "base_uri": "https://localhost:8080/"
        },
        "id": "VQiqlnqzXb6Y",
        "outputId": "b7020bc9-be55-4ae3-b42c-3d5f4fe01e48"
      },
      "source": [
        "data1[\"sold_price_per_sqrt_ft_range\"] = data1[\"sold_price_per_sqrt_ft_range\"].astype('category')\n",
        "data1[\"sold_price_per_sqrt_ft_range\"] = data1[\"sold_price_per_sqrt_ft_range\"].cat.codes\n",
        "data1.sold_price_per_sqrt_ft_range = data1.sold_price_per_sqrt_ft_range.astype(int)"
      ],
      "execution_count": null,
      "outputs": [
        {
          "output_type": "stream",
          "name": "stderr",
          "text": [
            "/usr/local/lib/python3.7/dist-packages/ipykernel_launcher.py:1: SettingWithCopyWarning: \n",
            "A value is trying to be set on a copy of a slice from a DataFrame.\n",
            "Try using .loc[row_indexer,col_indexer] = value instead\n",
            "\n",
            "See the caveats in the documentation: https://pandas.pydata.org/pandas-docs/stable/user_guide/indexing.html#returning-a-view-versus-a-copy\n",
            "  \"\"\"Entry point for launching an IPython kernel.\n",
            "/usr/local/lib/python3.7/dist-packages/ipykernel_launcher.py:2: SettingWithCopyWarning: \n",
            "A value is trying to be set on a copy of a slice from a DataFrame.\n",
            "Try using .loc[row_indexer,col_indexer] = value instead\n",
            "\n",
            "See the caveats in the documentation: https://pandas.pydata.org/pandas-docs/stable/user_guide/indexing.html#returning-a-view-versus-a-copy\n",
            "  \n",
            "/usr/local/lib/python3.7/dist-packages/pandas/core/generic.py:5170: SettingWithCopyWarning: \n",
            "A value is trying to be set on a copy of a slice from a DataFrame.\n",
            "Try using .loc[row_indexer,col_indexer] = value instead\n",
            "\n",
            "See the caveats in the documentation: https://pandas.pydata.org/pandas-docs/stable/user_guide/indexing.html#returning-a-view-versus-a-copy\n",
            "  self[name] = value\n"
          ]
        }
      ]
    },
    {
      "cell_type": "code",
      "metadata": {
        "colab": {
          "base_uri": "https://localhost:8080/"
        },
        "id": "EMS7cvYxOAai",
        "outputId": "50a5ddfa-d4e0-4d7a-9c97-c2fd695ab2a8"
      },
      "source": [
        "data2 = data1[['longitude','latitude','sold_price_per_sqrt_ft_range']]\n",
        "data2.info()"
      ],
      "execution_count": null,
      "outputs": [
        {
          "output_type": "stream",
          "name": "stdout",
          "text": [
            "<class 'pandas.core.frame.DataFrame'>\n",
            "Int64Index: 4902 entries, 0 to 4902\n",
            "Data columns (total 3 columns):\n",
            " #   Column                        Non-Null Count  Dtype  \n",
            "---  ------                        --------------  -----  \n",
            " 0   longitude                     4902 non-null   float64\n",
            " 1   latitude                      4902 non-null   float64\n",
            " 2   sold_price_per_sqrt_ft_range  4902 non-null   int64  \n",
            "dtypes: float64(2), int64(1)\n",
            "memory usage: 153.2 KB\n"
          ]
        }
      ]
    },
    {
      "cell_type": "code",
      "metadata": {
        "colab": {
          "base_uri": "https://localhost:8080/",
          "height": 70
        },
        "id": "jdo3NDmbQye0",
        "outputId": "f6300254-097c-44cd-9265-73f7717b43c0"
      },
      "source": [
        "\"\"\"\n",
        "from sklearn.preprocessing import OrdinalEncoder\n",
        "ord_enc = OrdinalEncoder()\n",
        "data2[\"sold_price_per_sqrt_ft_range\"] = ord_enc.fit_transform(data2[[\"sold_price_per_sqrt_ft_range\"]])\n",
        "data2.sold_price_per_sqrt_ft_range = data2.sold_price_per_sqrt_ft_range.astype(int)\n",
        "\"\"\""
      ],
      "execution_count": null,
      "outputs": [
        {
          "output_type": "execute_result",
          "data": {
            "application/vnd.google.colaboratory.intrinsic+json": {
              "type": "string"
            },
            "text/plain": [
              "'\\nfrom sklearn.preprocessing import OrdinalEncoder\\nord_enc = OrdinalEncoder()\\ndata2[\"sold_price_per_sqrt_ft_range\"] = ord_enc.fit_transform(data2[[\"sold_price_per_sqrt_ft_range\"]])\\ndata2.sold_price_per_sqrt_ft_range = data2.sold_price_per_sqrt_ft_range.astype(int)\\n'"
            ]
          },
          "metadata": {},
          "execution_count": 13
        }
      ]
    },
    {
      "cell_type": "code",
      "metadata": {
        "id": "T8ytRiNyRZ9s"
      },
      "source": [
        "# Shuffle your dataset \n",
        "shuffle_df = data2.sample(frac=1)\n",
        "\n",
        "# Define a size for your train set \n",
        "train_size = int(0.8 * len(data2))\n",
        "\n",
        "# Split your dataset \n",
        "train_set = shuffle_df[:train_size]\n",
        "test_set = shuffle_df[train_size:]"
      ],
      "execution_count": null,
      "outputs": []
    },
    {
      "cell_type": "code",
      "metadata": {
        "id": "DNdkSLPNRaEJ"
      },
      "source": [
        "X_train = train_set.drop(['sold_price_per_sqrt_ft_range'], axis=1)\n",
        "\n"
      ],
      "execution_count": null,
      "outputs": []
    },
    {
      "cell_type": "code",
      "metadata": {
        "id": "E8jdy0eJrUbU"
      },
      "source": [
        "X_train = X_train.to_numpy()\n"
      ],
      "execution_count": null,
      "outputs": []
    },
    {
      "cell_type": "code",
      "metadata": {
        "colab": {
          "base_uri": "https://localhost:8080/"
        },
        "id": "We5c9SzERaFU",
        "outputId": "9021ec89-10a1-4c75-c1ba-ae768ca1c440"
      },
      "source": [
        "y_train=train_set.iloc[:,-1]\n",
        "y_train = y_train.to_numpy()\n",
        "y_train.shape"
      ],
      "execution_count": null,
      "outputs": [
        {
          "output_type": "execute_result",
          "data": {
            "text/plain": [
              "(3921,)"
            ]
          },
          "metadata": {},
          "execution_count": 17
        }
      ]
    },
    {
      "cell_type": "code",
      "metadata": {
        "colab": {
          "base_uri": "https://localhost:8080/"
        },
        "id": "rHCKgeO6sMpk",
        "outputId": "36b7d70a-d053-4a7d-ffd5-0ba5ad7c7d33"
      },
      "source": [
        "X_test = test_set.drop(['sold_price_per_sqrt_ft_range'], axis=1)\n",
        "X_test.info()"
      ],
      "execution_count": null,
      "outputs": [
        {
          "output_type": "stream",
          "name": "stdout",
          "text": [
            "<class 'pandas.core.frame.DataFrame'>\n",
            "Int64Index: 981 entries, 1837 to 953\n",
            "Data columns (total 2 columns):\n",
            " #   Column     Non-Null Count  Dtype  \n",
            "---  ------     --------------  -----  \n",
            " 0   longitude  981 non-null    float64\n",
            " 1   latitude   981 non-null    float64\n",
            "dtypes: float64(2)\n",
            "memory usage: 23.0 KB\n"
          ]
        }
      ]
    },
    {
      "cell_type": "code",
      "metadata": {
        "colab": {
          "base_uri": "https://localhost:8080/"
        },
        "id": "Z31owTh4SomN",
        "outputId": "cf43df37-e0af-49ee-a546-9ddd86d6ca4c"
      },
      "source": [
        "\n",
        "X_test = X_test.to_numpy()\n",
        "X_test.shape\n",
        "X_test"
      ],
      "execution_count": null,
      "outputs": [
        {
          "output_type": "execute_result",
          "data": {
            "text/plain": [
              "array([[-110.847125,   32.262861],\n",
              "       [-110.833476,   32.31409 ],\n",
              "       [-110.929826,   32.336238],\n",
              "       ...,\n",
              "       [-111.02565 ,   32.434199],\n",
              "       [-111.039738,   32.274257],\n",
              "       [-110.702877,   32.271099]])"
            ]
          },
          "metadata": {},
          "execution_count": 19
        }
      ]
    },
    {
      "cell_type": "code",
      "metadata": {
        "id": "dFNTZlrOqVyB"
      },
      "source": [
        ""
      ],
      "execution_count": null,
      "outputs": []
    },
    {
      "cell_type": "code",
      "metadata": {
        "colab": {
          "base_uri": "https://localhost:8080/"
        },
        "id": "bt4EWputSooE",
        "outputId": "64f9893f-94c5-4401-91ce-c4465f6d37c8"
      },
      "source": [
        "y_test=test_set.iloc[:,-1]\n",
        "y_test = y_test.to_numpy()\n",
        "y_test.shape"
      ],
      "execution_count": null,
      "outputs": [
        {
          "output_type": "execute_result",
          "data": {
            "text/plain": [
              "(981,)"
            ]
          },
          "metadata": {},
          "execution_count": 20
        }
      ]
    },
    {
      "cell_type": "code",
      "metadata": {
        "id": "EWhwbUigRaJ2"
      },
      "source": [
        "class KNNClassifier():\n",
        "  def fit(self, X, y):\n",
        "    self.X=X\n",
        "    self.y=y\n",
        "\n",
        "  def predict(self, X,K, epsilon=10e-15):\n",
        "    N=len(X)\n",
        "    y_hat = np.zeros(N)\n",
        "\n",
        "    for i in range(N):\n",
        "      dist2 =np.sum((self.X-X[i])**2,axis=1)\n",
        "      idxt = np.argsort(dist2)[:K]\n",
        "      gamma_k = 1/(np.sqrt(dist2[idxt]+epsilon))\n",
        "      y_hat[i] = np.bincount(self.y[idxt], weights=gamma_k).argmax()\n",
        "\n",
        "    return y_hat"
      ],
      "execution_count": null,
      "outputs": []
    },
    {
      "cell_type": "code",
      "metadata": {
        "id": "dtdt3gnVSRke"
      },
      "source": [
        "knn = KNNClassifier()"
      ],
      "execution_count": null,
      "outputs": []
    },
    {
      "cell_type": "code",
      "metadata": {
        "id": "2GaLfpW_SRl0"
      },
      "source": [
        "knn.fit(X_train,y_train)"
      ],
      "execution_count": null,
      "outputs": []
    },
    {
      "cell_type": "code",
      "metadata": {
        "id": "eINR5rTmPYWK"
      },
      "source": [
        "y_hat1 = knn.predict(X_train, 8)"
      ],
      "execution_count": null,
      "outputs": []
    },
    {
      "cell_type": "code",
      "metadata": {
        "id": "z09yr-jOSRsM"
      },
      "source": [
        "y_hat = knn.predict(X_test, 8)"
      ],
      "execution_count": null,
      "outputs": []
    },
    {
      "cell_type": "code",
      "metadata": {
        "id": "n21vuu9SvgtK"
      },
      "source": [
        "def accuracy(y, y_hat):\n",
        "  return np.mean(y==y_hat)"
      ],
      "execution_count": null,
      "outputs": []
    },
    {
      "cell_type": "code",
      "metadata": {
        "colab": {
          "base_uri": "https://localhost:8080/"
        },
        "id": "s-zvWzn5Pbfl",
        "outputId": "bad4aa47-a25e-4af0-b83a-d9f6810dd68d"
      },
      "source": [
        "accuracy(y_train, y_hat1)"
      ],
      "execution_count": null,
      "outputs": [
        {
          "output_type": "execute_result",
          "data": {
            "text/plain": [
              "0.9987248150981892"
            ]
          },
          "metadata": {},
          "execution_count": 27
        }
      ]
    },
    {
      "cell_type": "code",
      "metadata": {
        "colab": {
          "base_uri": "https://localhost:8080/"
        },
        "id": "-jAPJR2ZviLZ",
        "outputId": "776213c1-0b81-4c1b-c97e-19ea966c5c51"
      },
      "source": [
        "accuracy(y_test, y_hat)"
      ],
      "execution_count": null,
      "outputs": [
        {
          "output_type": "execute_result",
          "data": {
            "text/plain": [
              "0.6992864424057085"
            ]
          },
          "metadata": {},
          "execution_count": 28
        }
      ]
    },
    {
      "cell_type": "markdown",
      "metadata": {
        "id": "sN-q3r3FW-3F"
      },
      "source": [
        "# Predicting the sold price "
      ]
    },
    {
      "cell_type": "code",
      "metadata": {
        "colab": {
          "base_uri": "https://localhost:8080/",
          "height": 548
        },
        "id": "RWw4G-JNWxXJ",
        "outputId": "241d49af-57ac-4b1c-e626-2db9b963522b"
      },
      "source": [
        "data3 = data1[['bedrooms', 'bathrooms','fireplaces','sold_price_per_sqrt_ft_range', 'sold_price']]\n",
        "data3.sold_price = data3.sold_price.astype(int)\n",
        "data3"
      ],
      "execution_count": null,
      "outputs": [
        {
          "output_type": "stream",
          "name": "stderr",
          "text": [
            "/usr/local/lib/python3.7/dist-packages/pandas/core/generic.py:5170: SettingWithCopyWarning: \n",
            "A value is trying to be set on a copy of a slice from a DataFrame.\n",
            "Try using .loc[row_indexer,col_indexer] = value instead\n",
            "\n",
            "See the caveats in the documentation: https://pandas.pydata.org/pandas-docs/stable/user_guide/indexing.html#returning-a-view-versus-a-copy\n",
            "  self[name] = value\n"
          ]
        },
        {
          "output_type": "execute_result",
          "data": {
            "text/html": [
              "<div>\n",
              "<style scoped>\n",
              "    .dataframe tbody tr th:only-of-type {\n",
              "        vertical-align: middle;\n",
              "    }\n",
              "\n",
              "    .dataframe tbody tr th {\n",
              "        vertical-align: top;\n",
              "    }\n",
              "\n",
              "    .dataframe thead th {\n",
              "        text-align: right;\n",
              "    }\n",
              "</style>\n",
              "<table border=\"1\" class=\"dataframe\">\n",
              "  <thead>\n",
              "    <tr style=\"text-align: right;\">\n",
              "      <th></th>\n",
              "      <th>bedrooms</th>\n",
              "      <th>bathrooms</th>\n",
              "      <th>fireplaces</th>\n",
              "      <th>sold_price_per_sqrt_ft_range</th>\n",
              "      <th>sold_price</th>\n",
              "    </tr>\n",
              "  </thead>\n",
              "  <tbody>\n",
              "    <tr>\n",
              "      <th>0</th>\n",
              "      <td>13</td>\n",
              "      <td>10.0</td>\n",
              "      <td>6</td>\n",
              "      <td>2</td>\n",
              "      <td>5300000</td>\n",
              "    </tr>\n",
              "    <tr>\n",
              "      <th>1</th>\n",
              "      <td>2</td>\n",
              "      <td>2.0</td>\n",
              "      <td>5</td>\n",
              "      <td>2</td>\n",
              "      <td>4200000</td>\n",
              "    </tr>\n",
              "    <tr>\n",
              "      <th>2</th>\n",
              "      <td>7</td>\n",
              "      <td>5.0</td>\n",
              "      <td>4</td>\n",
              "      <td>2</td>\n",
              "      <td>4500000</td>\n",
              "    </tr>\n",
              "    <tr>\n",
              "      <th>3</th>\n",
              "      <td>4</td>\n",
              "      <td>6.0</td>\n",
              "      <td>5</td>\n",
              "      <td>2</td>\n",
              "      <td>3411450</td>\n",
              "    </tr>\n",
              "    <tr>\n",
              "      <th>4</th>\n",
              "      <td>3</td>\n",
              "      <td>4.0</td>\n",
              "      <td>5</td>\n",
              "      <td>2</td>\n",
              "      <td>3250000</td>\n",
              "    </tr>\n",
              "    <tr>\n",
              "      <th>...</th>\n",
              "      <td>...</td>\n",
              "      <td>...</td>\n",
              "      <td>...</td>\n",
              "      <td>...</td>\n",
              "      <td>...</td>\n",
              "    </tr>\n",
              "    <tr>\n",
              "      <th>4898</th>\n",
              "      <td>3</td>\n",
              "      <td>2.0</td>\n",
              "      <td>1</td>\n",
              "      <td>0</td>\n",
              "      <td>535000</td>\n",
              "    </tr>\n",
              "    <tr>\n",
              "      <th>4899</th>\n",
              "      <td>5</td>\n",
              "      <td>3.0</td>\n",
              "      <td>1</td>\n",
              "      <td>1</td>\n",
              "      <td>495000</td>\n",
              "    </tr>\n",
              "    <tr>\n",
              "      <th>4900</th>\n",
              "      <td>4</td>\n",
              "      <td>3.0</td>\n",
              "      <td>1</td>\n",
              "      <td>0</td>\n",
              "      <td>550000</td>\n",
              "    </tr>\n",
              "    <tr>\n",
              "      <th>4901</th>\n",
              "      <td>3</td>\n",
              "      <td>2.0</td>\n",
              "      <td>0</td>\n",
              "      <td>0</td>\n",
              "      <td>475000</td>\n",
              "    </tr>\n",
              "    <tr>\n",
              "      <th>4902</th>\n",
              "      <td>4</td>\n",
              "      <td>4.0</td>\n",
              "      <td>1</td>\n",
              "      <td>1</td>\n",
              "      <td>550000</td>\n",
              "    </tr>\n",
              "  </tbody>\n",
              "</table>\n",
              "<p>4902 rows × 5 columns</p>\n",
              "</div>"
            ],
            "text/plain": [
              "      bedrooms  bathrooms  fireplaces  sold_price_per_sqrt_ft_range  sold_price\n",
              "0           13       10.0           6                             2     5300000\n",
              "1            2        2.0           5                             2     4200000\n",
              "2            7        5.0           4                             2     4500000\n",
              "3            4        6.0           5                             2     3411450\n",
              "4            3        4.0           5                             2     3250000\n",
              "...        ...        ...         ...                           ...         ...\n",
              "4898         3        2.0           1                             0      535000\n",
              "4899         5        3.0           1                             1      495000\n",
              "4900         4        3.0           1                             0      550000\n",
              "4901         3        2.0           0                             0      475000\n",
              "4902         4        4.0           1                             1      550000\n",
              "\n",
              "[4902 rows x 5 columns]"
            ]
          },
          "metadata": {},
          "execution_count": 30
        }
      ]
    },
    {
      "cell_type": "code",
      "metadata": {
        "id": "1T3EGHrV65NN"
      },
      "source": [
        ""
      ],
      "execution_count": null,
      "outputs": []
    },
    {
      "cell_type": "code",
      "metadata": {
        "id": "GgPVixWWWxYu"
      },
      "source": [
        "# Shuffle your dataset \n",
        "shuffle_df1 = data3.sample(frac=1)\n",
        "\n",
        "# Define a size for your train set \n",
        "train_size1 = int(0.8 * len(data3))\n",
        "\n",
        "# Split your dataset \n",
        "train_set1 = shuffle_df1[:train_size1]\n",
        "test_set1 = shuffle_df1[train_size1:]"
      ],
      "execution_count": null,
      "outputs": []
    },
    {
      "cell_type": "code",
      "metadata": {
        "id": "0weLQRKlWxdJ"
      },
      "source": [
        "X_train1 = train_set1.drop(['sold_price'], axis=1)\n",
        "X_train1 = X_train1.to_numpy()"
      ],
      "execution_count": null,
      "outputs": []
    },
    {
      "cell_type": "code",
      "metadata": {
        "id": "8qnwZdEHbM8z"
      },
      "source": [
        "y_train1=train_set1.iloc[:,-1]\n",
        "y_train1 = y_train1.to_numpy()"
      ],
      "execution_count": null,
      "outputs": []
    },
    {
      "cell_type": "code",
      "metadata": {
        "id": "Zezj5M9WbM-d"
      },
      "source": [
        "X_test1 = test_set1.drop(['sold_price'], axis=1)\n",
        "X_test1 = X_test1.to_numpy()"
      ],
      "execution_count": null,
      "outputs": []
    },
    {
      "cell_type": "code",
      "metadata": {
        "id": "t-EPvC-WbNCY"
      },
      "source": [
        "y_test1=test_set1.iloc[:,-1]\n",
        "y_test1 = y_test1.to_numpy()"
      ],
      "execution_count": null,
      "outputs": []
    },
    {
      "cell_type": "code",
      "metadata": {
        "id": "eE3PlIA6cqpc"
      },
      "source": [
        "def OLS(Y,Y_hat):\n",
        "  N=Y.shape[0]\n",
        "  return (1/(2*N)*np.sum((Y-Y_hat)**2))"
      ],
      "execution_count": null,
      "outputs": []
    },
    {
      "cell_type": "code",
      "metadata": {
        "id": "KHXNJ8yYcTGF"
      },
      "source": [
        "class OurLinearRegression():\n",
        "  def fit(self, X, y, eta=1e-3, epochs = 1e3, show_curve =False):\n",
        "\n",
        "    epochs = int(epochs)\n",
        "    N, D = X.shape\n",
        "    Y = y\n",
        "\n",
        "    self.W = np.random.randn(D)\n",
        "    J = np.zeros(epochs)\n",
        "\n",
        "    for epoch in range(epochs):\n",
        "      Y_hat = self.predict(X)\n",
        "      J[epoch] = OLS(Y,Y_hat)\n",
        "      self.W -= eta*(1/N)*(X.T@(Y_hat-Y))\n",
        "\n",
        "    if show_curve:\n",
        "      plt.figure()\n",
        "      plt.plot(J)\n",
        "      plt.xlabel(\"epochs\")\n",
        "      plt.ylabel(\"$\\match\")\n",
        "      plt.title(\"Training \")\n",
        "\n",
        "  def predict(self, X):\n",
        "    return X@self.W"
      ],
      "execution_count": null,
      "outputs": []
    },
    {
      "cell_type": "code",
      "metadata": {
        "id": "ODeQh8ukcTS2"
      },
      "source": [
        "myLireg = OurLinearRegression()"
      ],
      "execution_count": null,
      "outputs": []
    },
    {
      "cell_type": "code",
      "metadata": {
        "colab": {
          "base_uri": "https://localhost:8080/",
          "height": 295
        },
        "id": "oHUKEIZqcTZo",
        "outputId": "5fa99bd7-bc11-4082-e302-0594a1b99f3d"
      },
      "source": [
        "myLireg.fit(X_train1,y_train1, epochs = 3e4,eta = 1e-5, show_curve = True)"
      ],
      "execution_count": null,
      "outputs": [
        {
          "output_type": "display_data",
          "data": {
            "image/png": "[encoded data removed]",
            "text/plain": [
              "<Figure size 432x288 with 1 Axes>"
            ]
          },
          "metadata": {
            "needs_background": "light"
          }
        }
      ]
    },
    {
      "cell_type": "code",
      "metadata": {
        "id": "WH6qYpIVc0vR"
      },
      "source": [
        "def R2(Y, Y_hat):\n",
        "  return (1-(np.sum((Y-Y_hat)**2)/np.sum((Y-np.mean(Y))**2)))"
      ],
      "execution_count": null,
      "outputs": []
    },
    {
      "cell_type": "code",
      "metadata": {
        "id": "js4DVt-1c8mG"
      },
      "source": [
        "y_hat_train = myLireg.predict(X_train1)"
      ],
      "execution_count": null,
      "outputs": []
    },
    {
      "cell_type": "code",
      "metadata": {
        "colab": {
          "base_uri": "https://localhost:8080/"
        },
        "id": "Yd1xpApidJHh",
        "outputId": "76f32b0e-158a-48d9-e442-eb7e38fdaab8"
      },
      "source": [
        "R2(y_train1,y_hat_train)"
      ],
      "execution_count": null,
      "outputs": [
        {
          "output_type": "execute_result",
          "data": {
            "text/plain": [
              "0.02515760208349438"
            ]
          },
          "metadata": {},
          "execution_count": 42
        }
      ]
    },
    {
      "cell_type": "code",
      "metadata": {
        "id": "d8uQqvBJdJJf"
      },
      "source": [
        "y_hat_test = myLireg.predict(X_test1)"
      ],
      "execution_count": null,
      "outputs": []
    },
    {
      "cell_type": "code",
      "metadata": {
        "colab": {
          "base_uri": "https://localhost:8080/"
        },
        "id": "2ro4-WdYdnTz",
        "outputId": "52b8d7e4-6c06-48e1-90f4-58f94d8bfe82"
      },
      "source": [
        "R2(y_test1,y_hat_test)"
      ],
      "execution_count": null,
      "outputs": [
        {
          "output_type": "execute_result",
          "data": {
            "text/plain": [
              "0.1699112273766934"
            ]
          },
          "metadata": {},
          "execution_count": 44
        }
      ]
    },
    {
      "cell_type": "code",
      "metadata": {
        "id": "4psCksZ045a3"
      },
      "source": [
        "X_t = np.array([[5,4, 5,5]])"
      ],
      "execution_count": null,
      "outputs": []
    },
    {
      "cell_type": "code",
      "metadata": {
        "colab": {
          "base_uri": "https://localhost:8080/"
        },
        "id": "Yv7iQDpS5pXh",
        "outputId": "e9310f8c-8a86-466c-c5d4-ae786c3569b5"
      },
      "source": [
        "myLireg.predict(X_t)\n"
      ],
      "execution_count": null,
      "outputs": [
        {
          "output_type": "execute_result",
          "data": {
            "text/plain": [
              "array([1080695.46738759])"
            ]
          },
          "metadata": {},
          "execution_count": 46
        }
      ]
    },
    {
      "cell_type": "code",
      "metadata": {
        "colab": {
          "base_uri": "https://localhost:8080/",
          "height": 269
        },
        "id": "_n5sNDQP79wB",
        "outputId": "0f958fd4-0fb1-49ee-bde4-055d171695ab"
      },
      "source": [
        "d = data3.loc[data3['sold_price_per_sqrt_ft_range'] == 4]  \n",
        "d "
      ],
      "execution_count": null,
      "outputs": [
        {
          "output_type": "execute_result",
          "data": {
            "text/html": [
              "<div>\n",
              "<style scoped>\n",
              "    .dataframe tbody tr th:only-of-type {\n",
              "        vertical-align: middle;\n",
              "    }\n",
              "\n",
              "    .dataframe tbody tr th {\n",
              "        vertical-align: top;\n",
              "    }\n",
              "\n",
              "    .dataframe thead th {\n",
              "        text-align: right;\n",
              "    }\n",
              "</style>\n",
              "<table border=\"1\" class=\"dataframe\">\n",
              "  <thead>\n",
              "    <tr style=\"text-align: right;\">\n",
              "      <th></th>\n",
              "      <th>bedrooms</th>\n",
              "      <th>bathrooms</th>\n",
              "      <th>fireplaces</th>\n",
              "      <th>sold_price_per_sqrt_ft_range</th>\n",
              "      <th>sold_price</th>\n",
              "    </tr>\n",
              "  </thead>\n",
              "  <tbody>\n",
              "    <tr>\n",
              "      <th>13</th>\n",
              "      <td>3</td>\n",
              "      <td>3.0</td>\n",
              "      <td>3</td>\n",
              "      <td>4</td>\n",
              "      <td>3000000</td>\n",
              "    </tr>\n",
              "    <tr>\n",
              "      <th>14</th>\n",
              "      <td>3</td>\n",
              "      <td>3.0</td>\n",
              "      <td>3</td>\n",
              "      <td>4</td>\n",
              "      <td>2600000</td>\n",
              "    </tr>\n",
              "    <tr>\n",
              "      <th>17</th>\n",
              "      <td>3</td>\n",
              "      <td>3.0</td>\n",
              "      <td>3</td>\n",
              "      <td>4</td>\n",
              "      <td>2600000</td>\n",
              "    </tr>\n",
              "    <tr>\n",
              "      <th>19</th>\n",
              "      <td>3</td>\n",
              "      <td>3.0</td>\n",
              "      <td>3</td>\n",
              "      <td>4</td>\n",
              "      <td>2600000</td>\n",
              "    </tr>\n",
              "    <tr>\n",
              "      <th>25</th>\n",
              "      <td>3</td>\n",
              "      <td>3.0</td>\n",
              "      <td>3</td>\n",
              "      <td>4</td>\n",
              "      <td>2600000</td>\n",
              "    </tr>\n",
              "    <tr>\n",
              "      <th>28</th>\n",
              "      <td>2</td>\n",
              "      <td>2.0</td>\n",
              "      <td>1</td>\n",
              "      <td>4</td>\n",
              "      <td>2500000</td>\n",
              "    </tr>\n",
              "    <tr>\n",
              "      <th>47</th>\n",
              "      <td>2</td>\n",
              "      <td>3.0</td>\n",
              "      <td>1</td>\n",
              "      <td>4</td>\n",
              "      <td>1800000</td>\n",
              "    </tr>\n",
              "  </tbody>\n",
              "</table>\n",
              "</div>"
            ],
            "text/plain": [
              "    bedrooms  bathrooms  fireplaces  sold_price_per_sqrt_ft_range  sold_price\n",
              "13         3        3.0           3                             4     3000000\n",
              "14         3        3.0           3                             4     2600000\n",
              "17         3        3.0           3                             4     2600000\n",
              "19         3        3.0           3                             4     2600000\n",
              "25         3        3.0           3                             4     2600000\n",
              "28         2        2.0           1                             4     2500000\n",
              "47         2        3.0           1                             4     1800000"
            ]
          },
          "metadata": {},
          "execution_count": 47
        }
      ]
    },
    {
      "cell_type": "code",
      "metadata": {
        "colab": {
          "base_uri": "https://localhost:8080/"
        },
        "id": "gBjpSNZsC15H",
        "outputId": "dcdc5800-b2bb-4e64-ab23-fb4f98877a69"
      },
      "source": [
        "data2['sold_price_per_sqrt_ft_range'].value_counts()"
      ],
      "execution_count": null,
      "outputs": [
        {
          "output_type": "execute_result",
          "data": {
            "text/plain": [
              "0    2516\n",
              "1    2298\n",
              "2      75\n",
              "4       7\n",
              "3       6\n",
              "Name: sold_price_per_sqrt_ft_range, dtype: int64"
            ]
          },
          "metadata": {},
          "execution_count": 48
        }
      ]
    }
  ]
}